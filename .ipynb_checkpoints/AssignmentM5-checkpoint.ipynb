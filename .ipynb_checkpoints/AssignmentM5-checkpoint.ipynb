{
 "cells": [
  {
   "cell_type": "code",
   "execution_count": 1,
   "id": "6a00da74",
   "metadata": {},
   "outputs": [],
   "source": [
    "#5.8\n",
    "import sqlite3\n",
    "import tabulate\n",
    "import tables\n",
    "import pandas as pd\n",
    "import numpy as np"
   ]
  },
  {
   "cell_type": "code",
   "execution_count": 2,
   "id": "c337720d",
   "metadata": {},
   "outputs": [],
   "source": [
    "owner_prod_db = sqlite3.connect(\"owner_prod.db\")\n",
    "owner_prod_cur = owner_prod_db.cursor() "
   ]
  },
  {
   "cell_type": "code",
   "execution_count": 3,
   "id": "1cb993b6",
   "metadata": {},
   "outputs": [
    {
     "data": {
      "text/plain": [
       "<sqlite3.Cursor at 0x7f90e681b960>"
      ]
     },
     "execution_count": 3,
     "metadata": {},
     "output_type": "execute_result"
    }
   ],
   "source": [
    "owner_prod_cur.execute(\"\"\"\n",
    "CREATE TABLE Owner_Products(\n",
    "    owner INTEGER,\n",
    "    upc INTEGER,\n",
    "    description TEXT, \n",
    "    dept_name TEXT, \n",
    "    spend NUMERIC, \n",
    "    items INTEGER,\n",
    "    trans INTEGER\n",
    "\n",
    "\n",
    "\n",
    "\n",
    "\n",
    ")\"\"\")"
   ]
  },
  {
   "cell_type": "code",
   "execution_count": 4,
   "id": "0a83c622",
   "metadata": {},
   "outputs": [],
   "source": [
    "owner_prod_db.commit()"
   ]
  },
  {
   "cell_type": "code",
   "execution_count": 4,
   "id": "2ccf3e3c",
   "metadata": {},
   "outputs": [],
   "source": [
    "# data= [\"owner\",\"upc\", \"description\", \"dept_name\", \"spend\", \"items\", \"trans\"]"
   ]
  },
  {
   "cell_type": "code",
   "execution_count": 5,
   "id": "ca53ddf4",
   "metadata": {},
   "outputs": [],
   "source": [
    "# df=pd.DataFrame(data, columns=['Owner_Products'])\n",
    "# #don't use dataframes "
   ]
  },
  {
   "cell_type": "code",
   "execution_count": 6,
   "id": "ae4cc03c",
   "metadata": {
    "scrolled": true
   },
   "outputs": [
    {
     "name": "stdout",
     "output_type": "stream",
     "text": [
      "Owner Products\n",
      "Owner_Products    object\n",
      "dtype: object\n"
     ]
    }
   ],
   "source": [
    "\n",
    "# table_name = \"Owner Products\"\n",
    "# result = df.dtypes\n",
    "\n",
    "# print(table_name)\n",
    "# print(result)"
   ]
  },
  {
   "cell_type": "code",
   "execution_count": 7,
   "id": "8b2031c5",
   "metadata": {},
   "outputs": [
    {
     "ename": "UnicodeDecodeError",
     "evalue": "'utf-8' codec can't decode byte 0x81 in position 3880: invalid start byte",
     "output_type": "error",
     "traceback": [
      "\u001b[0;31m---------------------------------------------------------------------------\u001b[0m",
      "\u001b[0;31mUnicodeDecodeError\u001b[0m                        Traceback (most recent call last)",
      "Input \u001b[0;32mIn [7]\u001b[0m, in \u001b[0;36m<cell line: 3>\u001b[0;34m()\u001b[0m\n\u001b[1;32m      2\u001b[0m owner_prod \u001b[38;5;241m=\u001b[39m []\n\u001b[1;32m      3\u001b[0m \u001b[38;5;28;01mwith\u001b[39;00m \u001b[38;5;28mopen\u001b[39m(\u001b[38;5;124m\"\u001b[39m\u001b[38;5;124mowner_prod.db\u001b[39m\u001b[38;5;124m\"\u001b[39m,\u001b[38;5;124m'\u001b[39m\u001b[38;5;124mr\u001b[39m\u001b[38;5;124m'\u001b[39m) \u001b[38;5;28;01mas\u001b[39;00m infile :\n\u001b[0;32m----> 4\u001b[0m      \u001b[38;5;28;43mnext\u001b[39;49m\u001b[43m(\u001b[49m\u001b[43minfile\u001b[49m\u001b[43m)\u001b[49m\n\u001b[1;32m      5\u001b[0m      \u001b[38;5;28;01mfor\u001b[39;00m line \u001b[38;5;129;01min\u001b[39;00m infile :\n\u001b[1;32m      6\u001b[0m          line \u001b[38;5;241m=\u001b[39m line\u001b[38;5;241m.\u001b[39mstrip()\u001b[38;5;241m.\u001b[39msplit(\u001b[38;5;124m\"\u001b[39m\u001b[38;5;130;01m\\t\u001b[39;00m\u001b[38;5;124m\"\u001b[39m)\n",
      "File \u001b[0;32m~/opt/anaconda3/lib/python3.9/codecs.py:322\u001b[0m, in \u001b[0;36mBufferedIncrementalDecoder.decode\u001b[0;34m(self, input, final)\u001b[0m\n\u001b[1;32m    319\u001b[0m \u001b[38;5;28;01mdef\u001b[39;00m \u001b[38;5;21mdecode\u001b[39m(\u001b[38;5;28mself\u001b[39m, \u001b[38;5;28minput\u001b[39m, final\u001b[38;5;241m=\u001b[39m\u001b[38;5;28;01mFalse\u001b[39;00m):\n\u001b[1;32m    320\u001b[0m     \u001b[38;5;66;03m# decode input (taking the buffer into account)\u001b[39;00m\n\u001b[1;32m    321\u001b[0m     data \u001b[38;5;241m=\u001b[39m \u001b[38;5;28mself\u001b[39m\u001b[38;5;241m.\u001b[39mbuffer \u001b[38;5;241m+\u001b[39m \u001b[38;5;28minput\u001b[39m\n\u001b[0;32m--> 322\u001b[0m     (result, consumed) \u001b[38;5;241m=\u001b[39m \u001b[38;5;28;43mself\u001b[39;49m\u001b[38;5;241;43m.\u001b[39;49m\u001b[43m_buffer_decode\u001b[49m\u001b[43m(\u001b[49m\u001b[43mdata\u001b[49m\u001b[43m,\u001b[49m\u001b[43m \u001b[49m\u001b[38;5;28;43mself\u001b[39;49m\u001b[38;5;241;43m.\u001b[39;49m\u001b[43merrors\u001b[49m\u001b[43m,\u001b[49m\u001b[43m \u001b[49m\u001b[43mfinal\u001b[49m\u001b[43m)\u001b[49m\n\u001b[1;32m    323\u001b[0m     \u001b[38;5;66;03m# keep undecoded input until the next call\u001b[39;00m\n\u001b[1;32m    324\u001b[0m     \u001b[38;5;28mself\u001b[39m\u001b[38;5;241m.\u001b[39mbuffer \u001b[38;5;241m=\u001b[39m data[consumed:]\n",
      "\u001b[0;31mUnicodeDecodeError\u001b[0m: 'utf-8' codec can't decode byte 0x81 in position 3880: invalid start byte"
     ]
    }
   ],
   "source": [
    "#5.9\n",
    "owner_prod = []\n",
    "with open(\"owner_prod.db\",'r') as infile :\n",
    "     next(infile)\n",
    "     for line in infile :\n",
    "         line = line.strip().split(\"\\t\")\n",
    "         owner_prod.append(line)"
   ]
  },
  {
   "cell_type": "code",
   "execution_count": null,
   "id": "24b07006",
   "metadata": {},
   "outputs": [],
   "source": [
    "txt"
   ]
  },
  {
   "cell_type": "code",
   "execution_count": null,
   "id": "09291043",
   "metadata": {},
   "outputs": [],
   "source": []
  }
 ],
 "metadata": {
  "kernelspec": {
   "display_name": "Python 3 (ipykernel)",
   "language": "python",
   "name": "python3"
  },
  "language_info": {
   "codemirror_mode": {
    "name": "ipython",
    "version": 3
   },
   "file_extension": ".py",
   "mimetype": "text/x-python",
   "name": "python",
   "nbconvert_exporter": "python",
   "pygments_lexer": "ipython3",
   "version": "3.9.12"
  }
 },
 "nbformat": 4,
 "nbformat_minor": 5
}
