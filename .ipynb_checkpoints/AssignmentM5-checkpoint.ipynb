{
 "cells": [
  {
   "cell_type": "code",
   "execution_count": 1,
   "id": "6a00da74",
   "metadata": {},
   "outputs": [],
   "source": [
    "#5.8\n",
    "import sqlite3\n",
    "import tabulate\n",
    "import tables\n",
    "import pandas as pd\n",
    "import numpy as np"
   ]
  },
  {
   "cell_type": "code",
   "execution_count": 2,
   "id": "c337720d",
   "metadata": {},
   "outputs": [],
   "source": [
    "owner_prod_db = sqlite3.connect(\"owner_prod.db\")\n",
    "owner_prod_cur = owner_prod_db.cursor() "
   ]
  },
  {
   "cell_type": "code",
   "execution_count": 3,
   "id": "1cb993b6",
   "metadata": {},
   "outputs": [
    {
     "data": {
      "text/plain": [
       "<sqlite3.Cursor at 0x7f8c3e91ac00>"
      ]
     },
     "execution_count": 3,
     "metadata": {},
     "output_type": "execute_result"
    }
   ],
   "source": [
    "owner_prod_cur.execute(\"\"\"\n",
    "CREATE TABLE if not exists Owner_Products(\n",
    "    owner INTEGER,\n",
    "    upc INTEGER,\n",
    "    description TEXT, \n",
    "    dept_name TEXT, \n",
    "    spend NUMERIC, \n",
    "    items INTEGER,\n",
    "    trans INTEGER\n",
    "\n",
    "\n",
    "\n",
    "\n",
    "\n",
    ")\"\"\")"
   ]
  },
  {
   "cell_type": "code",
   "execution_count": 4,
   "id": "0a83c622",
   "metadata": {},
   "outputs": [],
   "source": [
    "owner_prod_db.commit()"
   ]
  },
  {
   "cell_type": "code",
   "execution_count": 5,
   "id": "8b2031c5",
   "metadata": {},
   "outputs": [],
   "source": [
    "#5.9\n",
    "owner_prod = []\n",
    "\n",
    "with open(\"/Users/krusty/Desktop/Applied Data Analytics F22 (M)/Assignments/M5/owner_products.txt\",'r') as infile : \n",
    "    next(infile)\n",
    "    for line in infile :\n",
    "        line = line.strip().split(\"\\t\")\n",
    "        owner_prod.append(line)"
   ]
  },
  {
   "cell_type": "code",
   "execution_count": 6,
   "id": "a1685250",
   "metadata": {},
   "outputs": [],
   "source": [
    "for row in owner_prod: \n",
    "    owner_prod_cur.execute('''\n",
    "            INSERT INTO Owner_Products (owner, upc, description, dept_name, spend, items, trans)\n",
    "            VALUES (?, ?, ?, ?, ?, ?, ?)''', row)\n",
    "    #print (row)\n",
    "\n",
    "    \n",
    "    \n",
    "owner_prod_db.commit()"
   ]
  },
  {
   "cell_type": "code",
   "execution_count": 40,
   "id": "2f7fb443",
   "metadata": {},
   "outputs": [],
   "source": [
    "input_file = \"/Users/krusty/Desktop/Applied Data Analytics F22 (M)/Assignments/M5/owner_products.txt\""
   ]
  },
  {
   "cell_type": "code",
   "execution_count": 41,
   "id": "95a808ce",
   "metadata": {
    "scrolled": false
   },
   "outputs": [
    {
     "name": "stdout",
     "output_type": "stream",
     "text": [
      "['owner', 'upc', 'description', 'dept_name', 'spend', 'items', 'trans']\n",
      "['48692', '4512', 'CUPCAKES Regular Cupcake', 'DELI', '7.56', '4.0', '2']\n",
      "['48692', '20194900000', 'Spinach Dip', 'DELI', '5.16', '0.861436', '2']\n",
      "['48692', '20139800000', 'Garlic Lovers Pasta', 'DELI', '2.87', '0.410587', '1']\n",
      "['48692', '81135500292', 'O.Havarti 8oz Rumiano', 'CHEESE', '5.89', '1.0', '1']\n"
     ]
    }
   ],
   "source": [
    "with open(input_file,'r',encoding=\"Latin-1\") as ifile :\n",
    "    for idx, line in enumerate(ifile) :\n",
    "        print(line.strip().split(\"\\t\"))\n",
    "        if idx > 3 :\n",
    "            break"
   ]
  },
  {
   "cell_type": "code",
   "execution_count": 47,
   "id": "fc9a8da5",
   "metadata": {
    "scrolled": true
   },
   "outputs": [
    {
     "ename": "NameError",
     "evalue": "name 'cur' is not defined",
     "output_type": "error",
     "traceback": [
      "\u001b[0;31m---------------------------------------------------------------------------\u001b[0m",
      "\u001b[0;31mNameError\u001b[0m                                 Traceback (most recent call last)",
      "Input \u001b[0;32mIn [47]\u001b[0m, in \u001b[0;36m<cell line: 1>\u001b[0;34m()\u001b[0m\n\u001b[1;32m      2\u001b[0m \u001b[38;5;28;01mfor\u001b[39;00m idx, line \u001b[38;5;129;01min\u001b[39;00m \u001b[38;5;28menumerate\u001b[39m(ifile) :\n\u001b[1;32m      3\u001b[0m     line \u001b[38;5;241m=\u001b[39m line\u001b[38;5;241m.\u001b[39mstrip()\u001b[38;5;241m.\u001b[39msplit(\u001b[38;5;124m\"\u001b[39m\u001b[38;5;130;01m\\t\u001b[39;00m\u001b[38;5;124m\"\u001b[39m)\n\u001b[0;32m----> 4\u001b[0m     \u001b[43mcur\u001b[49m\u001b[38;5;241m.\u001b[39mexecute(\u001b[38;5;124m'''\u001b[39m\n\u001b[1;32m      5\u001b[0m \u001b[38;5;124m        INSERT INTO owner, upc, description, spend, items, trans\u001b[39m\n\u001b[1;32m      6\u001b[0m \u001b[38;5;124m        VALUES (48692, CUPCAKES Regular Cupcake, DELI, 7.56, 4.0, 2)\u001b[39m\u001b[38;5;124m'''\u001b[39m, line)\n\u001b[1;32m      9\u001b[0m     \u001b[38;5;28;01mif\u001b[39;00m idx \u001b[38;5;241m>\u001b[39m \u001b[38;5;241m100\u001b[39m :\n\u001b[1;32m     10\u001b[0m         \u001b[38;5;28;01mbreak\u001b[39;00m\n",
      "\u001b[0;31mNameError\u001b[0m: name 'cur' is not defined"
     ]
    }
   ],
   "source": [
    "with open(input_file,'r', encoding=\"Latin-1\") as ifile :\n",
    "    for idx, line in enumerate(ifile) :\n",
    "        line = line.strip().split(\"\\t\")\n",
    "        owner_prod_cur.execute('''\n",
    "            INSERT INTO owner, upc, description, spend, items, trans\n",
    "            VALUES (48692, CUPCAKES Regular Cupcake, DELI, 7.56, 4.0, 2)''', line)\n",
    "\n",
    "        \n",
    "        if idx > 100 :\n",
    "            break\n",
    "\n",
    "db.commit()"
   ]
  },
  {
   "cell_type": "code",
   "execution_count": 12,
   "id": "87b72b92",
   "metadata": {
    "scrolled": true
   },
   "outputs": [
    {
     "data": {
      "text/plain": [
       "<sqlite3.Cursor at 0x7f8c3e91ac00>"
      ]
     },
     "execution_count": 12,
     "metadata": {},
     "output_type": "execute_result"
    }
   ],
   "source": [
    "#5.10\n",
    "owner_prod_cur.execute(\"\"\"\n",
    "    SELECT description, dept_name,round(sum(spend),2) as total_spend \n",
    "    FROM Owner_Products\n",
    "    WHERE dept_name LIKE '%GROC%'\n",
    "    GROUP BY description\n",
    "    ORDER BY  total_spend DESC\n",
    "\n",
    "\n",
    "\n",
    "\n",
    "\n",
    "\"\"\")"
   ]
  }
 ],
 "metadata": {
  "kernelspec": {
   "display_name": "Python 3 (ipykernel)",
   "language": "python",
   "name": "python3"
  },
  "language_info": {
   "codemirror_mode": {
    "name": "ipython",
    "version": 3
   },
   "file_extension": ".py",
   "mimetype": "text/x-python",
   "name": "python",
   "nbconvert_exporter": "python",
   "pygments_lexer": "ipython3",
   "version": "3.9.12"
  }
 },
 "nbformat": 4,
 "nbformat_minor": 5
}
